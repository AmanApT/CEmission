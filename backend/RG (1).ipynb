{
  "cells": [
    {
      "cell_type": "markdown",
      "metadata": {
        "id": "r-Tf_QmhVrOc"
      },
      "source": [
        "# **Importing the Packages**"
      ]
    },
    {
      "cell_type": "code",
      "execution_count": null,
      "metadata": {
        "id": "YAJRTPoTV0BD"
      },
      "outputs": [],
      "source": [
        "import pandas as pd\n",
        "import numpy as np\n",
        "import matplotlib.pyplot as plt\n",
        "from sklearn.ensemble import RandomForestRegressor\n",
        "from sklearn.ensemble import ExtraTreesRegressor\n",
        "import xgboost as xgb\n",
        "import seaborn as sns\n",
        "%matplotlib inline"
      ]
    },
    {
      "cell_type": "markdown",
      "metadata": {
        "id": "02LWWEl0RrHL"
      },
      "source": [
        "# **Importing the Files to a Dataframe**"
      ]
    },
    {
      "cell_type": "code",
      "execution_count": null,
      "metadata": {
        "id": "tzIyQmM8P5js"
      },
      "outputs": [],
      "source": [
        "df1 = pd.read_csv('/content/2015-building-energy-benchmarking.csv')\n",
        "df2 = pd.read_csv('/content/2016-building-energy-benchmarking.csv')"
      ]
    },
    {
      "cell_type": "markdown",
      "metadata": {
        "id": "CZzGqSTxR7Fi"
      },
      "source": [
        "# **Preprocessing**"
      ]
    },
    {
      "cell_type": "code",
      "execution_count": null,
      "metadata": {
        "id": "Oei_mkiGTKay"
      },
      "outputs": [],
      "source": [
        "df2.rename(columns = {'TotalGHGEmissions':'GHGEmissions(MetricTonsCO2e)','GHGEmissionsIntensity':'GHGEmissionsIntensity(kgCO2e/ft2)'}, inplace = True)"
      ]
    },
    {
      "cell_type": "code",
      "execution_count": null,
      "metadata": {
        "id": "gXl4pdiFP5zT"
      },
      "outputs": [],
      "source": [
        "Cols = []\n",
        "\n",
        "for i in df1.columns:\n",
        "  if i in list(df2.columns):\n",
        "    Cols.append(i)"
      ]
    },
    {
      "cell_type": "code",
      "execution_count": null,
      "metadata": {
        "id": "q7nwHqscP503"
      },
      "outputs": [],
      "source": [
        "df_1 = df1[Cols]\n",
        "df_2 = df2[Cols]"
      ]
    },
    {
      "cell_type": "code",
      "execution_count": null,
      "metadata": {
        "id": "mqdOVQJSU4M3"
      },
      "outputs": [],
      "source": [
        "final_df = pd.concat([df_1,df_2],axis=0)"
      ]
    },
    {
      "cell_type": "code",
      "execution_count": null,
      "metadata": {
        "id": "K27FkQ19VBjh"
      },
      "outputs": [],
      "source": [
        "final_df.drop(['OSEBuildingID','DataYear','BuildingType','PrimaryPropertyType','PropertyName','TaxParcelIdentificationNumber','CouncilDistrictCode','Neighborhood','YearBuilt','PropertyGFATotal','ListOfAllPropertyUseTypes',\n",
        "               'LargestPropertyUseTypeGFA','SecondLargestPropertyUseType','SecondLargestPropertyUseTypeGFA','ThirdLargestPropertyUseType','ThirdLargestPropertyUseTypeGFA','YearsENERGYSTARCertified','ENERGYSTARScore',\n",
        "               'SiteEUIWN(kBtu/sf)','SiteEnergyUse(kBtu)','SiteEnergyUseWN(kBtu)','SourceEUIWN(kBtu/sf)','Electricity(kWh)','NaturalGas(therms)','GHGEmissionsIntensity(kgCO2e/ft2)','DefaultData','ComplianceStatus','Outlier'],axis=1,inplace = True)"
      ]
    },
    {
      "cell_type": "code",
      "execution_count": null,
      "metadata": {
        "id": "5NQ-aveObdSe"
      },
      "outputs": [],
      "source": [
        "final_df"
      ]
    },
    {
      "cell_type": "markdown",
      "metadata": {
        "id": "OsF7HtaHS6eW"
      },
      "source": [
        "## **Plots**"
      ]
    },
    {
      "cell_type": "markdown",
      "metadata": {
        "id": "vtO7AOBNlNRx"
      },
      "source": [
        "### **Plots for Continuous Variables**"
      ]
    },
    {
      "cell_type": "code",
      "execution_count": null,
      "metadata": {
        "id": "9KlaI28vlMW1"
      },
      "outputs": [],
      "source": [
        "sns.set( style = \"white\" )\n",
        "rs = np.random.RandomState( 10 )"
      ]
    },
    {
      "cell_type": "code",
      "execution_count": null,
      "metadata": {
        "id": "eBOAhYNSlUpA"
      },
      "outputs": [],
      "source": [
        "fig = plt.figure(figsize = (20,14))\n",
        "final_df.hist(column=['PropertyGFABuilding(s)'],bins=5, figsize=(20,14))"
      ]
    },
    {
      "cell_type": "code",
      "execution_count": null,
      "metadata": {
        "id": "JFSa9nWGNrMk"
      },
      "outputs": [],
      "source": [
        "fig = plt.figure(figsize = (20,14))\n",
        "final_df.hist(column=['PropertyGFAParking'],bins=5, figsize=(20,14))"
      ]
    },
    {
      "cell_type": "code",
      "execution_count": null,
      "metadata": {
        "id": "oE9w3oboNrR9"
      },
      "outputs": [],
      "source": [
        "fig = plt.figure(figsize = (20,14))\n",
        "final_df.hist(column=['SiteEUI(kBtu/sf)'],bins=5, figsize=(20,14))"
      ]
    },
    {
      "cell_type": "code",
      "execution_count": null,
      "metadata": {
        "id": "-j8GjaBJNrTB"
      },
      "outputs": [],
      "source": [
        "fig = plt.figure(figsize = (20,14))\n",
        "final_df.hist(column=['SourceEUI(kBtu/sf)'],bins=5, figsize=(20,14))"
      ]
    },
    {
      "cell_type": "code",
      "execution_count": null,
      "metadata": {
        "id": "kFPthaCWNrU_"
      },
      "outputs": [],
      "source": [
        "fig = plt.figure(figsize = (20,14))\n",
        "final_df.hist(column=['SteamUse(kBtu)'],bins=5, figsize=(20,14))"
      ]
    },
    {
      "cell_type": "code",
      "execution_count": null,
      "metadata": {
        "id": "mzN2XyFhNrXo"
      },
      "outputs": [],
      "source": [
        "fig = plt.figure(figsize = (20,14))\n",
        "final_df.hist(column=['Electricity(kBtu)'],bins=5, figsize=(20,14))"
      ]
    },
    {
      "cell_type": "code",
      "execution_count": null,
      "metadata": {
        "id": "Z5Am82lrNraD"
      },
      "outputs": [],
      "source": [
        "fig = plt.figure(figsize = (20,14))\n",
        "final_df.hist(column=['NaturalGas(kBtu)'],bins=5, figsize=(20,14))"
      ]
    },
    {
      "cell_type": "markdown",
      "metadata": {
        "id": "1ccNPiqsQGR9"
      },
      "source": [
        "### **Plots for categorical Data**"
      ]
    },
    {
      "cell_type": "code",
      "execution_count": null,
      "metadata": {
        "id": "ExaNH6hglgEu"
      },
      "outputs": [],
      "source": [
        "fig = plt.figure(figsize = (20,14))\n",
        "sns.countplot(final_df['NumberofBuildings'])"
      ]
    },
    {
      "cell_type": "code",
      "execution_count": null,
      "metadata": {
        "id": "3lU3RVY3Q0Mq"
      },
      "outputs": [],
      "source": [
        "fig = plt.figure(figsize = (20,14))\n",
        "sns.countplot(final_df['NumberofFloors'])"
      ]
    },
    {
      "cell_type": "code",
      "execution_count": null,
      "metadata": {
        "id": "DXTKG6BqQ0PY"
      },
      "outputs": [],
      "source": [
        "fig = plt.figure(figsize = (20,14))\n",
        "sns.countplot(final_df['LargestPropertyUseType'])"
      ]
    },
    {
      "cell_type": "markdown",
      "metadata": {
        "id": "bej-nX8jRY8s"
      },
      "source": [
        "## **Label Encoder for Encoding String Categorical features**"
      ]
    },
    {
      "cell_type": "code",
      "execution_count": null,
      "metadata": {
        "id": "Uq7sZYT8eJpb"
      },
      "outputs": [],
      "source": [
        "from sklearn.preprocessing import LabelEncoder\n",
        "le = LabelEncoder()\n",
        "final_df['LargestPropertyUseType'] = le.fit_transform(final_df['LargestPropertyUseType'])"
      ]
    },
    {
      "cell_type": "code",
      "execution_count": null,
      "metadata": {
        "id": "Vx0Smyjoe3hM"
      },
      "outputs": [],
      "source": [
        "final_df"
      ]
    },
    {
      "cell_type": "markdown",
      "metadata": {
        "id": "VnrM93xYSb8n"
      },
      "source": [
        "## **Checking for Null Values and eliminating them**"
      ]
    },
    {
      "cell_type": "code",
      "execution_count": null,
      "metadata": {
        "id": "KmITe09vgpMb"
      },
      "outputs": [],
      "source": [
        "final_df.isna().sum()"
      ]
    },
    {
      "cell_type": "code",
      "execution_count": null,
      "metadata": {
        "id": "5nLlrQPDhTlf"
      },
      "outputs": [],
      "source": [
        "final_df=final_df.dropna()"
      ]
    },
    {
      "cell_type": "markdown",
      "metadata": {
        "id": "JZDyLiuTTJae"
      },
      "source": [
        "## **Splitting the data into Dependent and Independent Variables**"
      ]
    },
    {
      "cell_type": "code",
      "execution_count": null,
      "metadata": {
        "id": "LaU7rqpIfEOA"
      },
      "outputs": [],
      "source": [
        "X = final_df.iloc[:,:-1]\n",
        "Y = final_df.iloc[:,-1]"
      ]
    },
    {
      "cell_type": "markdown",
      "metadata": {
        "id": "eEYE3dwaTUtB"
      },
      "source": [
        "# **Train-Test Split**"
      ]
    },
    {
      "cell_type": "code",
      "execution_count": null,
      "metadata": {
        "id": "4Sl4NY51fEQo"
      },
      "outputs": [],
      "source": [
        "from sklearn.model_selection import train_test_split\n",
        "X_train, X_test, y_train, y_test = train_test_split(X, Y, test_size=0.25, random_state=42)"
      ]
    },
    {
      "cell_type": "markdown",
      "metadata": {
        "id": "kD3y7yIxTaZD"
      },
      "source": [
        "# **Models**"
      ]
    },
    {
      "cell_type": "markdown",
      "metadata": {
        "id": "4PUXRMA_VHi3"
      },
      "source": [
        "## **Random Forest Regressor**"
      ]
    },
    {
      "cell_type": "markdown",
      "metadata": {
        "id": "skvKS9fxTrqM"
      },
      "source": [
        "### **Random Forest Regressor(Training)**"
      ]
    },
    {
      "cell_type": "code",
      "execution_count": null,
      "metadata": {
        "id": "nwBuI-tkfETT"
      },
      "outputs": [],
      "source": [
        "regr = RandomForestRegressor()\n",
        "regr.fit(X_train, y_train)"
      ]
    },
    {
      "cell_type": "markdown",
      "metadata": {
        "id": "MZf29FNWT08i"
      },
      "source": [
        "### **Random Forest Regressor(Prediction)**"
      ]
    },
    {
      "cell_type": "code",
      "execution_count": null,
      "metadata": {
        "id": "8M1duvBtfEVu"
      },
      "outputs": [],
      "source": [
        "Prediction = regr.predict(X_test)"
      ]
    },
    {
      "cell_type": "markdown",
      "metadata": {
        "id": "tLoyjy7BUDFq"
      },
      "source": [
        "### **R2-Score**"
      ]
    },
    {
      "cell_type": "code",
      "execution_count": null,
      "metadata": {
        "id": "wHPXVyGhfEYj"
      },
      "outputs": [],
      "source": [
        "from sklearn.metrics import r2_score\n",
        "Metric = r2_score(y_test,Prediction)\n",
        "Metric"
      ]
    },
    {
      "cell_type": "markdown",
      "metadata": {
        "id": "NcFGjofmVVs6"
      },
      "source": [
        "## **Xgboost**"
      ]
    },
    {
      "cell_type": "markdown",
      "metadata": {
        "id": "hvuxM1-ZUPoy"
      },
      "source": [
        "### **Xgboost Regressor(Training)**"
      ]
    },
    {
      "cell_type": "code",
      "execution_count": null,
      "metadata": {
        "id": "HF2KCRQDiqbs"
      },
      "outputs": [],
      "source": [
        "regr = xgb.XGBRegressor()\n",
        "regr.fit(X_train, y_train)"
      ]
    },
    {
      "cell_type": "markdown",
      "metadata": {
        "id": "XDpQPHtnUUvN"
      },
      "source": [
        "### **Xgboost Regressor(Prediction)**"
      ]
    },
    {
      "cell_type": "code",
      "execution_count": null,
      "metadata": {
        "id": "018qEsM3iycr"
      },
      "outputs": [],
      "source": [
        "Prediction = regr.predict(X_test)"
      ]
    },
    {
      "cell_type": "markdown",
      "metadata": {
        "id": "kCEubxXjUtH-"
      },
      "source": [
        "### **R2-Score**"
      ]
    },
    {
      "cell_type": "code",
      "execution_count": null,
      "metadata": {
        "id": "Mjrcccpui2eQ"
      },
      "outputs": [],
      "source": [
        "from sklearn.metrics import r2_score\n",
        "Metric = r2_score(y_test,Prediction)\n",
        "Metric"
      ]
    },
    {
      "cell_type": "markdown",
      "metadata": {
        "id": "P4Uy3STpVfEx"
      },
      "source": [
        "## **ExtraTrees Regressor**"
      ]
    },
    {
      "cell_type": "markdown",
      "metadata": {
        "id": "iTvlhoOUUbwI"
      },
      "source": [
        "### **ExtraTrees Regressor(Training)**"
      ]
    },
    {
      "cell_type": "code",
      "execution_count": null,
      "metadata": {
        "id": "gSRzUV78i8er"
      },
      "outputs": [],
      "source": [
        "regr = ExtraTreesRegressor()\n",
        "regr.fit(X_train, y_train)"
      ]
    },
    {
      "cell_type": "markdown",
      "metadata": {
        "id": "5yWtiQA-UiJQ"
      },
      "source": [
        "### **ExtraTrees Regressor(Prediction)**"
      ]
    },
    {
      "cell_type": "code",
      "execution_count": null,
      "metadata": {
        "id": "MD8hPGUyi8i_"
      },
      "outputs": [],
      "source": [
        "Prediction = regr.predict(X_test)"
      ]
    },
    {
      "cell_type": "markdown",
      "metadata": {
        "id": "ANpdyAziUwNx"
      },
      "source": [
        "### **R2-Score**"
      ]
    },
    {
      "cell_type": "code",
      "execution_count": null,
      "metadata": {
        "id": "VpOj1cY9i8tt"
      },
      "outputs": [],
      "source": [
        "from sklearn.metrics import r2_score\n",
        "Metric = r2_score(y_test,Prediction)\n",
        "Metric"
      ]
    },
    {
      "cell_type": "markdown",
      "metadata": {
        "id": "divTt5wMWFmV"
      },
      "source": [
        "# **Predicting Unseen Point**"
      ]
    },
    {
      "cell_type": "code",
      "execution_count": null,
      "metadata": {
        "id": "-P4tDSsuWNde"
      },
      "outputs": [],
      "source": [
        "Data_Point = final_df.iloc[1867,:-1].to_numpy()"
      ]
    },
    {
      "cell_type": "code",
      "execution_count": null,
      "metadata": {
        "id": "BoCOL5FNWw97"
      },
      "outputs": [],
      "source": [
        "Prediction_true = final_df.iloc[1867,-1]\n",
        "Prediction_true"
      ]
    },
    {
      "cell_type": "code",
      "execution_count": null,
      "metadata": {
        "id": "0FcvfGf_W8dz"
      },
      "outputs": [],
      "source": [
        "Prediction_Model = regr.predict(Data_Point.reshape(1, -1))\n",
        "Prediction_Model"
      ]
    }
  ],
  "metadata": {
    "colab": {
      "collapsed_sections": [
        "1ccNPiqsQGR9",
        "skvKS9fxTrqM",
        "MZf29FNWT08i",
        "tLoyjy7BUDFq",
        "hvuxM1-ZUPoy",
        "XDpQPHtnUUvN",
        "kCEubxXjUtH-",
        "iTvlhoOUUbwI",
        "5yWtiQA-UiJQ",
        "ANpdyAziUwNx"
      ],
      "provenance": []
    },
    "kernelspec": {
      "display_name": "Python 3",
      "language": "python",
      "name": "python3"
    },
    "language_info": {
      "name": "python",
      "version": "3.10.5"
    },
    "vscode": {
      "interpreter": {
        "hash": "6492e5fa4ba687c9d590f432192b4194cc4ab892b7acfec41eb61906f6dd25c2"
      }
    }
  },
  "nbformat": 4,
  "nbformat_minor": 0
}
