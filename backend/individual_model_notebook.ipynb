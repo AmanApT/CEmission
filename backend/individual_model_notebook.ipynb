{
 "cells": [
  {
   "cell_type": "code",
   "execution_count": 1,
   "id": "5b60b7bc",
   "metadata": {},
   "outputs": [],
   "source": [
    "import numpy as np\n",
    "import pandas as pd"
   ]
  },
  {
   "cell_type": "code",
   "execution_count": 2,
   "id": "40e4883f",
   "metadata": {},
   "outputs": [
    {
     "data": {
      "text/html": [
       "<div>\n",
       "<style scoped>\n",
       "    .dataframe tbody tr th:only-of-type {\n",
       "        vertical-align: middle;\n",
       "    }\n",
       "\n",
       "    .dataframe tbody tr th {\n",
       "        vertical-align: top;\n",
       "    }\n",
       "\n",
       "    .dataframe thead th {\n",
       "        text-align: right;\n",
       "    }\n",
       "</style>\n",
       "<table border=\"1\" class=\"dataframe\">\n",
       "  <thead>\n",
       "    <tr style=\"text-align: right;\">\n",
       "      <th></th>\n",
       "      <th>Unnamed: 0</th>\n",
       "      <th>Electricity Bill(Monthly in Rs.)</th>\n",
       "      <th>Gas Bill (Monthly in Rs.)</th>\n",
       "      <th>Oil Bill (Monthly in Rs)</th>\n",
       "      <th>Car Mileage (Yearly in Rs.)</th>\n",
       "      <th>No. of flights in Past year(4hr or less)</th>\n",
       "      <th>No. of flights in past year (4hrs or more)</th>\n",
       "      <th>Recycled Newspaper past year</th>\n",
       "      <th>Recycled Aluminium and Tin Past year</th>\n",
       "      <th>CO2 Footprint (Tonnes)</th>\n",
       "    </tr>\n",
       "  </thead>\n",
       "  <tbody>\n",
       "    <tr>\n",
       "      <th>0</th>\n",
       "      <td>0</td>\n",
       "      <td>5322.554687</td>\n",
       "      <td>1594.004428</td>\n",
       "      <td>3478.366660</td>\n",
       "      <td>17605.025605</td>\n",
       "      <td>60</td>\n",
       "      <td>26</td>\n",
       "      <td>No</td>\n",
       "      <td>No</td>\n",
       "      <td>656.976055</td>\n",
       "    </tr>\n",
       "    <tr>\n",
       "      <th>1</th>\n",
       "      <td>1</td>\n",
       "      <td>5124.830372</td>\n",
       "      <td>339.655107</td>\n",
       "      <td>488.266375</td>\n",
       "      <td>52565.781974</td>\n",
       "      <td>61</td>\n",
       "      <td>28</td>\n",
       "      <td>No</td>\n",
       "      <td>Yes</td>\n",
       "      <td>430.478022</td>\n",
       "    </tr>\n",
       "    <tr>\n",
       "      <th>2</th>\n",
       "      <td>2</td>\n",
       "      <td>8936.016302</td>\n",
       "      <td>2206.751278</td>\n",
       "      <td>199.879216</td>\n",
       "      <td>31374.613247</td>\n",
       "      <td>11</td>\n",
       "      <td>47</td>\n",
       "      <td>Yes</td>\n",
       "      <td>Yes</td>\n",
       "      <td>718.131446</td>\n",
       "    </tr>\n",
       "    <tr>\n",
       "      <th>3</th>\n",
       "      <td>3</td>\n",
       "      <td>9460.938786</td>\n",
       "      <td>3769.012804</td>\n",
       "      <td>4904.934421</td>\n",
       "      <td>31060.831028</td>\n",
       "      <td>41</td>\n",
       "      <td>50</td>\n",
       "      <td>No</td>\n",
       "      <td>No</td>\n",
       "      <td>1116.695282</td>\n",
       "    </tr>\n",
       "    <tr>\n",
       "      <th>4</th>\n",
       "      <td>4</td>\n",
       "      <td>1192.171025</td>\n",
       "      <td>940.142524</td>\n",
       "      <td>4553.955100</td>\n",
       "      <td>15137.897795</td>\n",
       "      <td>30</td>\n",
       "      <td>37</td>\n",
       "      <td>Yes</td>\n",
       "      <td>Yes</td>\n",
       "      <td>473.124394</td>\n",
       "    </tr>\n",
       "  </tbody>\n",
       "</table>\n",
       "</div>"
      ],
      "text/plain": [
       "   Unnamed: 0  Electricity Bill(Monthly in Rs.)  Gas Bill (Monthly in Rs.)  \\\n",
       "0           0                       5322.554687                1594.004428   \n",
       "1           1                       5124.830372                 339.655107   \n",
       "2           2                       8936.016302                2206.751278   \n",
       "3           3                       9460.938786                3769.012804   \n",
       "4           4                       1192.171025                 940.142524   \n",
       "\n",
       "   Oil Bill (Monthly in Rs)  Car Mileage (Yearly in Rs.)  \\\n",
       "0               3478.366660                 17605.025605   \n",
       "1                488.266375                 52565.781974   \n",
       "2                199.879216                 31374.613247   \n",
       "3               4904.934421                 31060.831028   \n",
       "4               4553.955100                 15137.897795   \n",
       "\n",
       "   No. of flights in Past year(4hr or less)  \\\n",
       "0                                        60   \n",
       "1                                        61   \n",
       "2                                        11   \n",
       "3                                        41   \n",
       "4                                        30   \n",
       "\n",
       "   No. of flights in past year (4hrs or more) Recycled Newspaper past year  \\\n",
       "0                                          26                           No   \n",
       "1                                          28                           No   \n",
       "2                                          47                          Yes   \n",
       "3                                          50                           No   \n",
       "4                                          37                          Yes   \n",
       "\n",
       "  Recycled Aluminium and Tin Past year  CO2 Footprint (Tonnes)  \n",
       "0                                   No              656.976055  \n",
       "1                                  Yes              430.478022  \n",
       "2                                  Yes              718.131446  \n",
       "3                                   No             1116.695282  \n",
       "4                                  Yes              473.124394  "
      ]
     },
     "execution_count": 2,
     "metadata": {},
     "output_type": "execute_result"
    }
   ],
   "source": [
    "df = pd.read_csv(\"Individual Carbon Footprint.csv\")\n",
    "df.head()"
   ]
  },
  {
   "cell_type": "code",
   "execution_count": 3,
   "id": "2edbcd4e",
   "metadata": {},
   "outputs": [
    {
     "name": "stdout",
     "output_type": "stream",
     "text": [
      "<class 'pandas.core.frame.DataFrame'>\n",
      "RangeIndex: 8000 entries, 0 to 7999\n",
      "Data columns (total 10 columns):\n",
      " #   Column                                      Non-Null Count  Dtype  \n",
      "---  ------                                      --------------  -----  \n",
      " 0   Unnamed: 0                                  8000 non-null   int64  \n",
      " 1   Electricity Bill(Monthly in Rs.)            8000 non-null   float64\n",
      " 2   Gas Bill (Monthly in Rs.)                   8000 non-null   float64\n",
      " 3   Oil Bill (Monthly in Rs)                    8000 non-null   float64\n",
      " 4   Car Mileage (Yearly in Rs.)                 8000 non-null   float64\n",
      " 5   No. of flights in Past year(4hr or less)    8000 non-null   int64  \n",
      " 6   No. of flights in past year (4hrs or more)  8000 non-null   int64  \n",
      " 7   Recycled Newspaper past year                8000 non-null   object \n",
      " 8   Recycled Aluminium and Tin Past year        8000 non-null   object \n",
      " 9   CO2 Footprint (Tonnes)                      8000 non-null   float64\n",
      "dtypes: float64(5), int64(3), object(2)\n",
      "memory usage: 625.1+ KB\n"
     ]
    }
   ],
   "source": [
    "df.info()"
   ]
  },
  {
   "cell_type": "code",
   "execution_count": 4,
   "id": "4c55b028",
   "metadata": {},
   "outputs": [],
   "source": [
    "df.drop(columns=\"Unnamed: 0\", inplace=True)"
   ]
  },
  {
   "cell_type": "code",
   "execution_count": 5,
   "id": "34e982fe",
   "metadata": {},
   "outputs": [],
   "source": [
    "discrete_cols = [i for i in df.columns if df[i].dtype == 'O']\n",
    "\n",
    "for col in discrete_cols:\n",
    "    df[col] = df[col].apply(lambda x: 1 if x=='Yes' else 0)"
   ]
  },
  {
   "cell_type": "code",
   "execution_count": 6,
   "id": "25b12958",
   "metadata": {},
   "outputs": [
    {
     "name": "stdout",
     "output_type": "stream",
     "text": [
      "<class 'pandas.core.frame.DataFrame'>\n",
      "RangeIndex: 8000 entries, 0 to 7999\n",
      "Data columns (total 9 columns):\n",
      " #   Column                                      Non-Null Count  Dtype  \n",
      "---  ------                                      --------------  -----  \n",
      " 0   Electricity Bill(Monthly in Rs.)            8000 non-null   float64\n",
      " 1   Gas Bill (Monthly in Rs.)                   8000 non-null   float64\n",
      " 2   Oil Bill (Monthly in Rs)                    8000 non-null   float64\n",
      " 3   Car Mileage (Yearly in Rs.)                 8000 non-null   float64\n",
      " 4   No. of flights in Past year(4hr or less)    8000 non-null   int64  \n",
      " 5   No. of flights in past year (4hrs or more)  8000 non-null   int64  \n",
      " 6   Recycled Newspaper past year                8000 non-null   int64  \n",
      " 7   Recycled Aluminium and Tin Past year        8000 non-null   int64  \n",
      " 8   CO2 Footprint (Tonnes)                      8000 non-null   float64\n",
      "dtypes: float64(5), int64(4)\n",
      "memory usage: 562.6 KB\n"
     ]
    }
   ],
   "source": [
    "df.info()"
   ]
  },
  {
   "cell_type": "code",
   "execution_count": 7,
   "id": "05b84be3",
   "metadata": {},
   "outputs": [],
   "source": [
    "x_feat = [i for i in df.columns if i!= \"CO2 Footprint (Tonnes)\"]\n",
    "y_feat = \"CO2 Footprint (Tonnes)\"\n",
    "\n",
    "from sklearn.model_selection import train_test_split\n",
    "\n",
    "x_train, x_test, y_train, y_test = train_test_split(df.loc[:, x_feat], df[y_feat], test_size = 0.2)"
   ]
  },
  {
   "cell_type": "code",
   "execution_count": 8,
   "id": "5feb34dc",
   "metadata": {},
   "outputs": [
    {
     "name": "stdout",
     "output_type": "stream",
     "text": [
      "Accuracy on test data: 98.39789367923188%\n"
     ]
    }
   ],
   "source": [
    "from sklearn.ensemble import RandomForestRegressor\n",
    "\n",
    "clf = RandomForestRegressor(max_depth=100, random_state=0)\n",
    "\n",
    "clf.fit(x_train, y_train)\n",
    "\n",
    "print(f\"Accuracy on test data: {clf.score(x_test, y_test)*100}%\")"
   ]
  },
  {
   "cell_type": "code",
   "execution_count": 9,
   "id": "65108057",
   "metadata": {},
   "outputs": [],
   "source": [
    "import pickle\n",
    "\n",
    "filename = \"individual_RF_model.pickle\"\n",
    "\n",
    "# save model\n",
    "pickle.dump(clf, open(filename, \"wb\"))"
   ]
  },
  {
   "cell_type": "code",
   "execution_count": 23,
   "id": "64eb1c35",
   "metadata": {},
   "outputs": [
    {
     "ename": "TypeError",
     "evalue": "array() got an unexpected keyword argument 'index'",
     "output_type": "error",
     "traceback": [
      "\u001b[1;31m---------------------------------------------------------------------------\u001b[0m",
      "\u001b[1;31mTypeError\u001b[0m                                 Traceback (most recent call last)",
      "Cell \u001b[1;32mIn[23], line 1\u001b[0m\n\u001b[1;32m----> 1\u001b[0m clf\u001b[39m.\u001b[39mpredict(np\u001b[39m.\u001b[39;49marray([\u001b[39m8\u001b[39;49m, \u001b[39m9\u001b[39;49m, \u001b[39m10\u001b[39;49m, \u001b[39m11\u001b[39;49m, \u001b[39m13\u001b[39;49m, \u001b[39m13\u001b[39;49m, \u001b[39m14\u001b[39;49m, \u001b[39m15\u001b[39;49m], index\u001b[39m=\u001b[39;49m[\u001b[39m0\u001b[39;49m])\u001b[39m.\u001b[39mreshape(\u001b[39m1\u001b[39m, \u001b[39m-\u001b[39m\u001b[39m1\u001b[39m))\n",
      "\u001b[1;31mTypeError\u001b[0m: array() got an unexpected keyword argument 'index'"
     ]
    }
   ],
   "source": [
    "clf.predict(np.array([8, 9, 10, 11, 13, 13, 14, 15]).reshape(1, -1))"
   ]
  },
  {
   "cell_type": "code",
   "execution_count": 25,
   "id": "8a49ebfb",
   "metadata": {},
   "outputs": [
    {
     "data": {
      "text/plain": [
       "172.13909560216817"
      ]
     },
     "execution_count": 25,
     "metadata": {},
     "output_type": "execute_result"
    }
   ],
   "source": [
    "clf.predict(pd.DataFrame(dict(zip(list(x_train.columns), [8, 9, 10, 11, 13, 13, 14, 15])), index=[0]))[0]"
   ]
  },
  {
   "cell_type": "code",
   "execution_count": null,
   "id": "960680c5",
   "metadata": {},
   "outputs": [],
   "source": []
  }
 ],
 "metadata": {
  "kernelspec": {
   "display_name": "Python 3 (ipykernel)",
   "language": "python",
   "name": "python3"
  },
  "language_info": {
   "codemirror_mode": {
    "name": "ipython",
    "version": 3
   },
   "file_extension": ".py",
   "mimetype": "text/x-python",
   "name": "python",
   "nbconvert_exporter": "python",
   "pygments_lexer": "ipython3",
   "version": "3.8.10"
  },
  "vscode": {
   "interpreter": {
    "hash": "8d59c9d3a7b42134f8d121118429e312b53e0584621117dc9cf743c951380d96"
   }
  }
 },
 "nbformat": 4,
 "nbformat_minor": 5
}
